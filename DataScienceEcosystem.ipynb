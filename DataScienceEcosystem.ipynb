{
  "metadata": {
    "kernelspec": {
      "name": "python",
      "display_name": "Python (Pyodide)",
      "language": "python"
    },
    "language_info": {
      "codemirror_mode": {
        "name": "python",
        "version": 3
      },
      "file_extension": ".py",
      "mimetype": "text/x-python",
      "name": "python",
      "nbconvert_exporter": "python",
      "pygments_lexer": "ipython3",
      "version": "3.8"
    }
  },
  "nbformat_minor": 5,
  "nbformat": 4,
  "cells": [
    {
      "id": "e9b47ef4-5119-4253-95a0-cd85130c0a2c",
      "cell_type": "markdown",
      "source": "# Data Science Tools and Ecosystem",
      "metadata": {}
    },
    {
      "id": "3dd3093e-12b4-4eb7-9cb9-5380e97169c8",
      "cell_type": "markdown",
      "source": "##### In this notebook, Data Science Tools and Ecosystem are summarized.",
      "metadata": {}
    },
    {
      "id": "df472879-1b8a-42b9-adf6-4f798d36c0e8",
      "cell_type": "markdown",
      "source": "##### Some of the popular languages that Data Scientists use are:\n1. Python\n2. R\n3. SQL\n4. Scala\n5. C++\n6. Julia\n7. Java",
      "metadata": {}
    },
    {
      "id": "4299b64a-15e7-4df8-8bdb-be8ac52db2a8",
      "cell_type": "markdown",
      "source": "##### Some of the commonly used libraries used by Data Scientists include:\n1. Pandas\n2. NumPy\n3. SciPy\n4. Matplotlib\n5. TensorFlow\n6. PyTorch\n7. Keras\n8. Scikit-learn",
      "metadata": {}
    },
    {
      "id": "e63be5e8-1ffb-47eb-a77a-74803420ed25",
      "cell_type": "markdown",
      "source": "|Data Science Tools|\n|------------------|\n|Jupyter Notebook |\n|RStudio |\n|Apache Spark |",
      "metadata": {}
    },
    {
      "id": "c64636dd-764f-49dc-9d1a-80dcf94fbe29",
      "cell_type": "markdown",
      "source": "### Below are a few examples of evaluating arithmetic expressions in Python",
      "metadata": {}
    },
    {
      "id": "8ccaff6d-be9b-4b2a-9d76-45862503df1d",
      "cell_type": "code",
      "source": "# This a simple arithmetic expression to mutiply then add integers\n(3*4)+5",
      "metadata": {
        "trusted": true
      },
      "outputs": [
        {
          "execution_count": 1,
          "output_type": "execute_result",
          "data": {
            "text/plain": "17"
          },
          "metadata": {}
        }
      ],
      "execution_count": 1
    },
    {
      "id": "441670c0-7518-4da1-a262-5f0c9e985dd0",
      "cell_type": "code",
      "source": "# This will convert 200 minutes to hours by diving by 60\n200/60",
      "metadata": {
        "trusted": true
      },
      "outputs": [
        {
          "execution_count": 2,
          "output_type": "execute_result",
          "data": {
            "text/plain": "3.3333333333333335"
          },
          "metadata": {}
        }
      ],
      "execution_count": 2
    },
    {
      "id": "08ac884b-510d-432e-9b2b-5c437ebf0573",
      "cell_type": "markdown",
      "source": "**Objectives:**\n* Popular languages for Data Science.\n* Commonly used libraries used by Data Scientists.\n* Data Science Tools.\n* Arithmetic Expressions in Python.",
      "metadata": {}
    },
    {
      "id": "535d2a38-a9c7-44c8-878f-460334f3f2b1",
      "cell_type": "markdown",
      "source": "## Author\n##### Rehan Khan",
      "metadata": {}
    }
  ]
}